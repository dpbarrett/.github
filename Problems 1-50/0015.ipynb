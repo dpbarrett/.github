{
  "nbformat": 4,
  "nbformat_minor": 0,
  "metadata": {
    "colab": {
      "provenance": [],
      "authorship_tag": "ABX9TyMFy1DQL4Dmw0SFLKCd5Lu6",
      "include_colab_link": true
    },
    "kernelspec": {
      "name": "python3",
      "display_name": "Python 3"
    },
    "language_info": {
      "name": "python"
    }
  },
  "cells": [
    {
      "cell_type": "markdown",
      "metadata": {
        "id": "view-in-github",
        "colab_type": "text"
      },
      "source": [
        "<a href=\"https://colab.research.google.com/github/dpbarrett/.github/blob/main/Problems%201-50/0015.ipynb\" target=\"_parent\"><img src=\"https://colab.research.google.com/assets/colab-badge.svg\" alt=\"Open In Colab\"/></a>"
      ]
    },
    {
      "cell_type": "markdown",
      "source": [
        "#Lattice Paths\n",
        "<p>Starting in the top left corner of a $2 \\times 2$ grid, and only being able to move to the right and down, there are exactly $6$ routes to the bottom right corner.</p>\n",
        "<center>\n",
        "<img src=\"https://projecteuler.net/resources/images/0015.png?1678992052\" class=\"dark_img\" alt=\"\"></center>\n",
        "<p>How many such routes are there through a $20 \\times 20$ grid?</p>\n"
      ],
      "metadata": {
        "id": "iYG0N4pYQE97"
      }
    },
    {
      "cell_type": "code",
      "source": [
        "from functools import lru_cache\n",
        "\n",
        "@lru_cache(maxsize=None)\n",
        "def combinations(n, k):\n",
        "  \"\"\"Calculates the number of combinations of n items taken k at a time.\"\"\"\n",
        "  if k < 0 or k > n:\n",
        "    return 0\n",
        "  if k == 0 or k == n:\n",
        "    return 1\n",
        "  if k > n // 2:\n",
        "    k = n - k\n",
        "\n",
        "  result = 1\n",
        "  for i in range(k):\n",
        "    result = result * (n - i) // (i + 1)\n",
        "  return result\n",
        "\n",
        "def lattice_paths(n, m):\n",
        "  \"\"\"Calculates the number of lattice paths in an n x m grid.\"\"\"\n",
        "  total_moves = n + m\n",
        "  right_moves = n\n",
        "  return combinations(total_moves, right_moves)\n",
        "\n",
        "# Example usage:\n",
        "n = 2\n",
        "m = 2\n",
        "print(lattice_paths(n, m))\n"
      ],
      "metadata": {
        "colab": {
          "base_uri": "https://localhost:8080/"
        },
        "id": "8wYKANbLRTP5",
        "outputId": "fec65474-0e90-4f24-8c1c-86649afa0cb7"
      },
      "execution_count": 4,
      "outputs": [
        {
          "output_type": "stream",
          "name": "stdout",
          "text": [
            "6\n"
          ]
        }
      ]
    },
    {
      "cell_type": "code",
      "source": [
        "\n",
        "n = 20\n",
        "m = 20\n",
        "print(lattice_paths(n, m))"
      ],
      "metadata": {
        "colab": {
          "base_uri": "https://localhost:8080/"
        },
        "id": "k_4whs3fR4m8",
        "outputId": "911311ae-9ade-4c87-cd42-8c7d890bf70e"
      },
      "execution_count": 15,
      "outputs": [
        {
          "output_type": "stream",
          "name": "stdout",
          "text": [
            "137846528820\n"
          ]
        }
      ]
    }
  ]
}